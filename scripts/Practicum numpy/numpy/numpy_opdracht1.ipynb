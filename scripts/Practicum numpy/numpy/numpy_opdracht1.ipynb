{
 "cells": [
  {
   "cell_type": "markdown",
   "id": "b45dd50e-d75c-41d2-a549-110cc111e32b",
   "metadata": {},
   "source": [
    "<a href=\"https://it-omscholing.nl/locaties/hogeschool-rotterdam/\">\n",
    "<div>\n",
    "<a><img src='../pics/banner.PNG'/></a>\n",
    "</div>\n",
    "<div>\n",
    "<a href=''><img src='../pics/miw.PNG'/></a>\n",
    "<em>Author: Jeroen Boogaard</em>\n",
    "</div>\n",
    "</a>"
   ]
  },
  {
   "cell_type": "markdown",
   "id": "63f0720b-4a62-479d-873b-c5f6cad9a89d",
   "metadata": {},
   "source": [
    "<h1>Numpy</h1>"
   ]
  },
  {
   "cell_type": "markdown",
   "id": "3619d610-30b3-41a2-b5f0-ae37b9d5b105",
   "metadata": {},
   "source": [
    "**Imports**"
   ]
  },
  {
   "cell_type": "code",
   "execution_count": 3,
   "id": "42257a05-c794-4121-a9cf-fe53fa3a1dc1",
   "metadata": {},
   "outputs": [],
   "source": [
    "import numpy as np\n",
    "import pandas as pd\n",
    "from PIL import Image\n",
    "from scipy import ndimage"
   ]
  },
  {
   "cell_type": "markdown",
   "id": "8e48110a-ff83-4fba-aab9-7cb3678fe668",
   "metadata": {},
   "source": [
    "<h2>Opdracht 1</h2>"
   ]
  },
  {
   "cell_type": "markdown",
   "id": "47ac5b87-14b1-437e-91cb-93dadadef8f9",
   "metadata": {},
   "source": [
    "<h3>Gegeven</h3>"
   ]
  },
  {
   "cell_type": "markdown",
   "id": "8605ba6e-3f4e-4fe1-b76f-c784f2f44735",
   "metadata": {},
   "source": [
    "Planeet | Grootte to.v. de omvang van de Aarde\n",
    "---|---\n",
    "Jupiter | 1120%\n",
    "Saturnus | 945%\n",
    "Uranus | 400%\n",
    "Neptunus | 388%\n",
    "Aarde| 100%\n",
    "Venus | 95%\n",
    "Mars | 53%"
   ]
  },
  {
   "cell_type": "code",
   "execution_count": 4,
   "id": "2b471d98-c5b0-4db0-a1c6-155094548c23",
   "metadata": {},
   "outputs": [],
   "source": [
    "filename = \"csv/planets.csv\""
   ]
  },
  {
   "cell_type": "code",
   "execution_count": 5,
   "id": "2a7a5a0b",
   "metadata": {},
   "outputs": [],
   "source": [
    "# import os\n",
    "# path = \"pics\"\n",
    "# dir_list = os.listdir(path)\n",
    "# print(\"Files and directories in\", path, \":\")\n",
    "# print(dir_list)\n",
    "\n",
    "# Wilde 'ls pics' gebruiken om de plaatjes (paden darheen) aan de data toe te voegen. kom hier nu niet uit. Ga vanwege de tijd voor de makkelijke optie: toevoegen van paden-naar-image in de csv"
   ]
  },
  {
   "cell_type": "code",
   "execution_count": 6,
   "id": "ae3b6287",
   "metadata": {},
   "outputs": [],
   "source": [
    "# !ls -l pics | awk '{print $9}' > pictures.txt\n",
    "# !pip install csv23 ipywidgets matplotlib numpy pandas"
   ]
  },
  {
   "cell_type": "markdown",
   "id": "ad98fa30-0e0a-4ec4-9930-b63db74c11f2",
   "metadata": {},
   "source": [
    "<h3>Gevraagd</h3>\n",
    "<p>\n",
    "Schaal voor elke (erkende) planeet uit ons zonnestelsel de bijbehorende image t.o.v. van de aarde. Het geschaalde plaatje moet groter zijn dan het plaatje van de aarde als de bijbehorende planeet groter is dan de aarde. Is de planeet kleiner dan de aarde dan moet het nieuwe plaatje kleiner zijn. Gebruik voor de schaalfactor het percentage. \n",
    "Tip: Indien nodig kun je de images normaliseren door eerst het plaatje van de aarde te schalen\n",
    "</p>"
   ]
  },
  {
   "cell_type": "markdown",
   "id": "c0c854fb-54db-4baa-b149-2e7d0c1b6391",
   "metadata": {},
   "source": [
    "<h3>Oplossing</h3>\n",
    "<ol>\n",
    "    <li>\n",
    "        <strong>Open het bestand csv/planets.csv en voeg daar de kolom <i>image</i></strong>\n",
    "    </li>\n",
    "    <li>\n",
    "        <strong>Importeer het csv-bestand en sla de data op in een dictionary</strong>\n",
    "    </li>\n",
    "    <li>\n",
    "        <strong>Open een image uit van een item uit de dictionary</strong>\n",
    "    </li>\n",
    "    <li>\n",
    "        <strong>Schaal de image m.b.v. een <i>numpy array</i></strong>\n",
    "    </li>\n",
    "    <li>\n",
    "        <strong>Sla de geschaalde image op</strong>\n",
    "    </li>\n",
    "    <li>\n",
    "        <strong>Schrijf een functie voor het schalen van een image</strong>\n",
    "    </li>    \n",
    "    <li>\n",
    "        <strong>Maak een loop waarbij voor elke planeet een geschaalde image wordt gemaakt en opgelagen</strong>\n",
    "    </li>    \n",
    "</ol>    "
   ]
  },
  {
   "cell_type": "markdown",
   "id": "b2a7b7fb-56b3-43f7-a6b5-34adc057c3d1",
   "metadata": {},
   "source": [
    "**Stap 2: Importeer het csv-bestand en sla de data op in een dictionary**"
   ]
  },
  {
   "cell_type": "code",
   "execution_count": 7,
   "id": "cbcb0e9b-46f8-490d-9a85-eb29037a93cb",
   "metadata": {},
   "outputs": [
    {
     "name": "stdout",
     "output_type": "stream",
     "text": [
      "{'Name': {0: 'Mercury', 1: 'Venus', 2: 'Earth', 3: 'Mars', 4: 'Jupiter', 5: 'Saturn', 6: 'Uranus', 7: 'Neptune', 8: 'Pluto'}, 'Diameter': {0: 4879.4, 1: 12103.6, 2: 12756.3, 3: 6794.4, 4: 142984.0, 5: 120536.0, 6: 51118.0, 7: 49572.0, 8: 2370.0}, 'Mass': {0: '3.302×10^23', 1: '4.869×10^24', 2: '5.974×10^24', 3: '6.419×10^23', 4: '1.899×10^27', 5: '5.688×10^26', 6: '8.683×10^25', 7: '1.024×10^26', 8: '1.3×10^22'}, 'Inclination': {0: 7.004, 1: 3.39471, 2: 5e-05, 3: 1.85061, 4: 1.3053, 5: 2.48446, 6: 0.774, 7: 1.76917, 8: 17.08900092}, 'Eccentricity': {0: 0.20563593, 1: 0.00677672, 2: 0.01671123, 3: 0.0933941, 4: 0.04838624, 5: 0.05386179, 6: 0.04725744, 7: 0.00859048, 8: 0.250248713}, 'Semi_majorAxis': {0: 0.38709927, 1: 0.72333566, 2: 1.00000261, 3: 1.52371034, 4: 5.202887, 5: 9.53667594, 6: 19.18916464, 7: 30.06992276, 8: 39.44506973}, 'SurfaceGravity': {0: 3.7, 1: 8.87, 2: 9.78, 3: 3.71, 4: 24.79, 5: 8.96, 6: 7.77, 7: 11.0, 8: 0.62}, 'OrbitalPeriod': {0: 0.241, 1: 0.615, 2: 1.0, 3: 1.881, 4: 11.86, 5: 29.46, 6: 84.01, 7: 164.79, 8: 247.7406624}, 'SiderealRotation': {0: 58.65, 1: 243.0187, 2: 0.997271, 3: 1.02595, 4: 0.4135, 5: 0.4264, 6: 0.7181, 7: 0.6712, 8: 6.38723}, 'Satellites': {0: 0, 1: 0, 2: 1, 3: 2, 4: 63, 5: 64, 6: 27, 7: 14, 8: 5}, 'Image': {0: nan, 1: 'venus.png', 2: 'earth.jpg', 3: 'mars.jpg', 4: 'jupiter.jpg', 5: 'saturn.jpg', 6: 'uranus.jpg', 7: 'neptune.jpg', 8: nan}}\n"
     ]
    }
   ],
   "source": [
    "planetDataFrame = pd.read_csv('csv/planets.csv', header = 0, sep = ',', skipinitialspace=True)\n",
    "# print(planetDataFrame)\n",
    "# print(type(planetDataFrame))\n",
    "# print(planetDataFrame.columns)\n",
    "planetDict = planetDataFrame.to_dict()\n",
    "print (planetDict)"
   ]
  },
  {
   "cell_type": "markdown",
   "id": "9d9d8c73-c8fa-41b0-848c-04741aa06bbf",
   "metadata": {},
   "source": [
    "**Stap 3: Open een image uit van een item uit de dictionary**"
   ]
  },
  {
   "cell_type": "code",
   "execution_count": 8,
   "id": "83d43bb9-694e-4390-a8a3-30f6535f6591",
   "metadata": {},
   "outputs": [
    {
     "name": "stdout",
     "output_type": "stream",
     "text": [
      "pics/Venus.jpg\n",
      "pics/venus.png\n"
     ]
    }
   ],
   "source": [
    "# img = Image.open('pics/venus.png')\n",
    "# type(img)\n",
    "# img.show()\n",
    "# print('pics/'+(planetDict['Name'][1])+'.jpg') #--> ja, leuk, maar venus is png ipv jpg\n",
    "print('pics/'+(planetDict['Image'][1]))\n",
    "img = Image.open('pics/'+(planetDict['Image'][1]))\n",
    "type(img)\n",
    "img.show()"
   ]
  },
  {
   "cell_type": "markdown",
   "id": "645b438b-324d-427c-9efd-d621e37445f7",
   "metadata": {
    "tags": []
   },
   "source": [
    "**Stap 4: Schaal de image m.b.v. een numpy array**"
   ]
  },
  {
   "cell_type": "code",
   "execution_count": 30,
   "id": "8894e6bd-6237-4cf6-8d95-222d6a3be56e",
   "metadata": {},
   "outputs": [],
   "source": [
    "array = np.array(img)\n",
    "type(array)\n",
    "scaleFactor = 1\n",
    "scaleArray = ndimage.zoom(array, (scaleFactor, scaleFactor, 1))\n",
    "imgScaled = Image.fromarray(scaleArray)\n",
    "imgScaled.show()"
   ]
  },
  {
   "cell_type": "markdown",
   "id": "8611929d-d109-4f62-881f-b8a64db1e648",
   "metadata": {},
   "source": [
    "**Stap 5: Sla de geschaalde image op**"
   ]
  },
  {
   "cell_type": "code",
   "execution_count": 32,
   "id": "2e34fa25-3cc3-4e5f-b29a-7793e505db61",
   "metadata": {},
   "outputs": [],
   "source": [
    "imgScaled.save(img.filename.replace(\".\",\"_scaled.\"))"
   ]
  },
  {
   "cell_type": "markdown",
   "id": "f142ebe1-f561-447b-8e2e-e8855b20cd50",
   "metadata": {},
   "source": [
    "**Stap 6: Schrijf een functie voor het schalen van een image**"
   ]
  },
  {
   "cell_type": "code",
   "execution_count": 29,
   "id": "03cdd9a1",
   "metadata": {},
   "outputs": [
    {
     "name": "stdout",
     "output_type": "stream",
     "text": [
      "{'Scale': {1: '0.95', 2: '1', 3: '0.53', 4: '11,2', 5: '9.45', 6: '4', 7: '3.88'}}\n",
      "{'Name': {0: 'Mercury', 1: 'Venus', 2: 'Earth', 3: 'Mars', 4: 'Jupiter', 5: 'Saturn', 6: 'Uranus', 7: 'Neptune', 8: 'Pluto'}, 'Diameter': {0: 4879.4, 1: 12103.6, 2: 12756.3, 3: 6794.4, 4: 142984.0, 5: 120536.0, 6: 51118.0, 7: 49572.0, 8: 2370.0}, 'Mass': {0: '3.302×10^23', 1: '4.869×10^24', 2: '5.974×10^24', 3: '6.419×10^23', 4: '1.899×10^27', 5: '5.688×10^26', 6: '8.683×10^25', 7: '1.024×10^26', 8: '1.3×10^22'}, 'Inclination': {0: 7.004, 1: 3.39471, 2: 5e-05, 3: 1.85061, 4: 1.3053, 5: 2.48446, 6: 0.774, 7: 1.76917, 8: 17.08900092}, 'Eccentricity': {0: 0.20563593, 1: 0.00677672, 2: 0.01671123, 3: 0.0933941, 4: 0.04838624, 5: 0.05386179, 6: 0.04725744, 7: 0.00859048, 8: 0.250248713}, 'Semi_majorAxis': {0: 0.38709927, 1: 0.72333566, 2: 1.00000261, 3: 1.52371034, 4: 5.202887, 5: 9.53667594, 6: 19.18916464, 7: 30.06992276, 8: 39.44506973}, 'SurfaceGravity': {0: 3.7, 1: 8.87, 2: 9.78, 3: 3.71, 4: 24.79, 5: 8.96, 6: 7.77, 7: 11.0, 8: 0.62}, 'OrbitalPeriod': {0: 0.241, 1: 0.615, 2: 1.0, 3: 1.881, 4: 11.86, 5: 29.46, 6: 84.01, 7: 164.79, 8: 247.7406624}, 'SiderealRotation': {0: 58.65, 1: 243.0187, 2: 0.997271, 3: 1.02595, 4: 0.4135, 5: 0.4264, 6: 0.7181, 7: 0.6712, 8: 6.38723}, 'Satellites': {0: 0, 1: 0, 2: 1, 3: 2, 4: 63, 5: 64, 6: 27, 7: 14, 8: 5}, 'Image': {0: nan, 1: 'venus.png', 2: 'earth.jpg', 3: 'mars.jpg', 4: 'jupiter.jpg', 5: 'saturn.jpg', 6: 'uranus.jpg', 7: 'neptune.jpg', 8: nan}, 'Scale': {1: '0.95', 2: '1', 3: '0.53', 4: '11,2', 5: '9.45', 6: '4', 7: '3.88'}}\n",
      "0.95\n"
     ]
    }
   ],
   "source": [
    "# Eerst kolom met scales toevoegen aan dictionary\n",
    "scales = {'Scale': {1:'0.95', 2:'1', 3:'0.53', 4:'11,2', 5:'9.45', 6:'4', 7:'3.88'}}\n",
    "print(scales)\n",
    "planetDict2 = {**planetDict,**scales}\n",
    "print(planetDict2)\n",
    "print(planetDict2['Scale'][1])"
   ]
  },
  {
   "cell_type": "code",
   "execution_count": 26,
   "id": "88e2bb11",
   "metadata": {},
   "outputs": [
    {
     "ename": "KeyError",
     "evalue": "'Name'",
     "output_type": "error",
     "traceback": [
      "\u001b[0;31m---------------------------------------------------------------------------\u001b[0m",
      "\u001b[0;31mKeyError\u001b[0m                                  Traceback (most recent call last)",
      "\u001b[1;32m/Users/dennis/Repo/MakeAIWork/scripts/Practicum numpy/numpy/numpy_opdracht1.ipynb Cell 23\u001b[0m in \u001b[0;36m<cell line: 9>\u001b[0;34m()\u001b[0m\n\u001b[1;32m      <a href='vscode-notebook-cell:/Users/dennis/Repo/MakeAIWork/scripts/Practicum%20numpy/numpy/numpy_opdracht1.ipynb#X31sZmlsZQ%3D%3D?line=6'>7</a>\u001b[0m     imgScaled\u001b[39m.\u001b[39mshow()\n\u001b[1;32m      <a href='vscode-notebook-cell:/Users/dennis/Repo/MakeAIWork/scripts/Practicum%20numpy/numpy/numpy_opdracht1.ipynb#X31sZmlsZQ%3D%3D?line=8'>9</a>\u001b[0m \u001b[39mfor\u001b[39;00m i \u001b[39min\u001b[39;00m planetDict2:\n\u001b[0;32m---> <a href='vscode-notebook-cell:/Users/dennis/Repo/MakeAIWork/scripts/Practicum%20numpy/numpy/numpy_opdracht1.ipynb#X31sZmlsZQ%3D%3D?line=9'>10</a>\u001b[0m     img \u001b[39m=\u001b[39m Image\u001b[39m.\u001b[39mopen(\u001b[39m'\u001b[39m\u001b[39mpics/\u001b[39m\u001b[39m'\u001b[39m\u001b[39m+\u001b[39m(planetDict[\u001b[39m'\u001b[39;49m\u001b[39mImage\u001b[39;49m\u001b[39m'\u001b[39;49m][i]))\n",
      "\u001b[0;31mKeyError\u001b[0m: 'Name'"
     ]
    }
   ],
   "source": [
    "def scaleImage(img):\n",
    "    array = np.array(img)\n",
    "    type(array)\n",
    "    scaleFactor = planetDict2['Scale'][i]\n",
    "    scaleArray = ndimage.zoom(array, (scaleFactor, scaleFactor, 1))\n",
    "    imgScaled = Image.fromarray(scaleArray)\n",
    "    imgScaled.show()\n",
    "    \n",
    "\n",
    "array = np.array(img)\n",
    "type(array)\n",
    "scaleFactor = 1\n",
    "scaleArray = ndimage.zoom(array, (scaleFactor, scaleFactor, 1))\n",
    "imgScaled = Image.fromarray(scaleArray)\n",
    "imgScaled.show()"
   ]
  },
  {
   "cell_type": "markdown",
   "id": "5a550077-c83c-4af2-96fa-7a32158d5198",
   "metadata": {},
   "source": [
    "**Stap 7: Maak een loop waarbij voor elke planeet een geschaalde image wordt gemaakt en opgelagen**"
   ]
  },
  {
   "cell_type": "code",
   "execution_count": 27,
   "id": "c8c7f570",
   "metadata": {},
   "outputs": [
    {
     "ename": "KeyError",
     "evalue": "'Name'",
     "output_type": "error",
     "traceback": [
      "\u001b[0;31m---------------------------------------------------------------------------\u001b[0m",
      "\u001b[0;31mKeyError\u001b[0m                                  Traceback (most recent call last)",
      "\u001b[1;32m/Users/dennis/Repo/MakeAIWork/scripts/Practicum numpy/numpy/numpy_opdracht1.ipynb Cell 25\u001b[0m in \u001b[0;36m<cell line: 1>\u001b[0;34m()\u001b[0m\n\u001b[1;32m      <a href='vscode-notebook-cell:/Users/dennis/Repo/MakeAIWork/scripts/Practicum%20numpy/numpy/numpy_opdracht1.ipynb#X40sZmlsZQ%3D%3D?line=0'>1</a>\u001b[0m \u001b[39mfor\u001b[39;00m i \u001b[39min\u001b[39;00m planetDict2:\n\u001b[0;32m----> <a href='vscode-notebook-cell:/Users/dennis/Repo/MakeAIWork/scripts/Practicum%20numpy/numpy/numpy_opdracht1.ipynb#X40sZmlsZQ%3D%3D?line=1'>2</a>\u001b[0m     img \u001b[39m=\u001b[39m Image\u001b[39m.\u001b[39mopen(\u001b[39m'\u001b[39m\u001b[39mpics/\u001b[39m\u001b[39m'\u001b[39m\u001b[39m+\u001b[39m(planetDict2[\u001b[39m'\u001b[39;49m\u001b[39mImage\u001b[39;49m\u001b[39m'\u001b[39;49m][i]))\n",
      "\u001b[0;31mKeyError\u001b[0m: 'Name'"
     ]
    }
   ],
   "source": [
    "for i in planetDict2:\n",
    "    img = Image.open('pics/'+(planetDict2['Image'][i]))\n",
    "    "
   ]
  },
  {
   "cell_type": "markdown",
   "id": "a668a8e8-4d7e-4c6d-adbc-61935887fabe",
   "metadata": {},
   "source": [
    "<h4>Bonus: Voeg Mercurius aan de tabel toe en schaal ook daarvan het plaatje</h4>"
   ]
  },
  {
   "cell_type": "markdown",
   "id": "11d181d1-c906-4ad1-9d8f-69836a4e8cc7",
   "metadata": {},
   "source": [
    "</ol>"
   ]
  },
  {
   "cell_type": "markdown",
   "id": "03ac855f-3986-4b4a-823c-10c6d8b33024",
   "metadata": {},
   "source": [
    "</ol>"
   ]
  },
  {
   "cell_type": "markdown",
   "id": "0be19a7e-a00f-4773-a19a-50b07618f856",
   "metadata": {},
   "source": [
    "\n"
   ]
  }
 ],
 "metadata": {
  "kernelspec": {
   "display_name": "Python 3.10.6 64-bit",
   "language": "python",
   "name": "python3"
  },
  "language_info": {
   "codemirror_mode": {
    "name": "ipython",
    "version": 3
   },
   "file_extension": ".py",
   "mimetype": "text/x-python",
   "name": "python",
   "nbconvert_exporter": "python",
   "pygments_lexer": "ipython3",
   "version": "3.10.6"
  },
  "vscode": {
   "interpreter": {
    "hash": "aee8b7b246df8f9039afb4144a1f6fd8d2ca17a180786b69acc140d282b71a49"
   }
  }
 },
 "nbformat": 4,
 "nbformat_minor": 5
}
