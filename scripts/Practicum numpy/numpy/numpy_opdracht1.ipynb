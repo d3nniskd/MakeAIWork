{
 "cells": [
  {
   "cell_type": "markdown",
   "id": "b45dd50e-d75c-41d2-a549-110cc111e32b",
   "metadata": {},
   "source": [
    "<a href=\"https://it-omscholing.nl/locaties/hogeschool-rotterdam/\">\n",
    "<div>\n",
    "<a><img src='../pics/banner.PNG'/></a>\n",
    "</div>\n",
    "<div>\n",
    "<a href=''><img src='../pics/miw.PNG'/></a>\n",
    "<em>Author: Jeroen Boogaard</em>\n",
    "</div>\n",
    "</a>"
   ]
  },
  {
   "cell_type": "markdown",
   "id": "63f0720b-4a62-479d-873b-c5f6cad9a89d",
   "metadata": {},
   "source": [
    "<h1>Numpy</h1>"
   ]
  },
  {
   "cell_type": "markdown",
   "id": "3619d610-30b3-41a2-b5f0-ae37b9d5b105",
   "metadata": {},
   "source": [
    "**Imports**"
   ]
  },
  {
   "cell_type": "code",
   "execution_count": 70,
   "id": "42257a05-c794-4121-a9cf-fe53fa3a1dc1",
   "metadata": {},
   "outputs": [],
   "source": [
    "import numpy as np\n",
    "import pandas as pd\n",
    "from PIL import Image\n",
    "from scipy import ndimage"
   ]
  },
  {
   "cell_type": "markdown",
   "id": "8e48110a-ff83-4fba-aab9-7cb3678fe668",
   "metadata": {},
   "source": [
    "<h2>Opdracht 1</h2>"
   ]
  },
  {
   "cell_type": "markdown",
   "id": "47ac5b87-14b1-437e-91cb-93dadadef8f9",
   "metadata": {},
   "source": [
    "<h3>Gegeven</h3>"
   ]
  },
  {
   "cell_type": "markdown",
   "id": "8605ba6e-3f4e-4fe1-b76f-c784f2f44735",
   "metadata": {},
   "source": [
    "Planeet | Grootte to.v. de omvang van de Aarde\n",
    "---|---\n",
    "Jupiter | 1120%\n",
    "Saturnus | 945%\n",
    "Uranus | 400%\n",
    "Neptunus | 388%\n",
    "Aarde| 100%\n",
    "Venus | 95%\n",
    "Mars | 53%"
   ]
  },
  {
   "cell_type": "code",
   "execution_count": 71,
   "id": "2b471d98-c5b0-4db0-a1c6-155094548c23",
   "metadata": {},
   "outputs": [],
   "source": [
    "filename = \"csv/planets.csv\""
   ]
  },
  {
   "cell_type": "code",
   "execution_count": 72,
   "id": "2a7a5a0b",
   "metadata": {},
   "outputs": [],
   "source": [
    "# import os\n",
    "# path = \"pics\"\n",
    "# dir_list = os.listdir(path)\n",
    "# print(\"Files and directories in\", path, \":\")\n",
    "# print(dir_list)\n",
    "\n",
    "# Wilde 'ls pics' gebruiken om de plaatjes (paden darheen) aan de data toe te voegen. kom hier nu niet uit. Ga vanwege de tijd voor de makkelijke optie: toevoegen van paden-naar-image in de csv"
   ]
  },
  {
   "cell_type": "code",
   "execution_count": 73,
   "id": "ae3b6287",
   "metadata": {},
   "outputs": [],
   "source": [
    "# !ls -l pics | awk '{print $9}' > pictures.txt\n",
    "# !pip install csv23 ipywidgets matplotlib numpy pandas"
   ]
  },
  {
   "cell_type": "markdown",
   "id": "ad98fa30-0e0a-4ec4-9930-b63db74c11f2",
   "metadata": {},
   "source": [
    "<h3>Gevraagd</h3>\n",
    "<p>\n",
    "Schaal voor elke (erkende) planeet uit ons zonnestelsel de bijbehorende image t.o.v. van de aarde. Het geschaalde plaatje moet groter zijn dan het plaatje van de aarde als de bijbehorende planeet groter is dan de aarde. Is de planeet kleiner dan de aarde dan moet het nieuwe plaatje kleiner zijn. Gebruik voor de schaalfactor het percentage. \n",
    "Tip: Indien nodig kun je de images normaliseren door eerst het plaatje van de aarde te schalen\n",
    "</p>"
   ]
  },
  {
   "cell_type": "markdown",
   "id": "c0c854fb-54db-4baa-b149-2e7d0c1b6391",
   "metadata": {},
   "source": [
    "<h3>Oplossing</h3>\n",
    "<ol>\n",
    "    <li>\n",
    "        <strong>Open het bestand csv/planets.csv en voeg daar de kolom <i>image</i></strong>\n",
    "    </li>\n",
    "    <li>\n",
    "        <strong>Importeer het csv-bestand en sla de data op in een dictionary</strong>\n",
    "    </li>\n",
    "    <li>\n",
    "        <strong>Open een image uit van een item uit de dictionary</strong>\n",
    "    </li>\n",
    "    <li>\n",
    "        <strong>Schaal de image m.b.v. een <i>numpy array</i></strong>\n",
    "    </li>\n",
    "    <li>\n",
    "        <strong>Sla de geschaalde image op</strong>\n",
    "    </li>\n",
    "    <li>\n",
    "        <strong>Schrijf een functie voor het schalen van een image</strong>\n",
    "    </li>    \n",
    "    <li>\n",
    "        <strong>Maak een loop waarbij voor elke planeet een geschaalde image wordt gemaakt en opgelagen</strong>\n",
    "    </li>    \n",
    "</ol>    "
   ]
  },
  {
   "cell_type": "markdown",
   "id": "b2a7b7fb-56b3-43f7-a6b5-34adc057c3d1",
   "metadata": {},
   "source": [
    "**Stap 2: Importeer het csv-bestand en sla de data op in een dictionary**"
   ]
  },
  {
   "cell_type": "code",
   "execution_count": 74,
   "id": "cbcb0e9b-46f8-490d-9a85-eb29037a93cb",
   "metadata": {},
   "outputs": [],
   "source": [
    "planetDataFrame = pd.read_csv('csv/planets.csv', header = 0, sep = ',', skipinitialspace=True)\n",
    "# print(planetDataFrame)\n",
    "# print(type(planetDataFrame))\n",
    "# print(planetDataFrame.columns)\n",
    "planetDict = planetDataFrame.to_dict()\n",
    "# print (planetDict)"
   ]
  },
  {
   "cell_type": "markdown",
   "id": "9d9d8c73-c8fa-41b0-848c-04741aa06bbf",
   "metadata": {},
   "source": [
    "**Stap 3: Open een image uit van een item uit de dictionary**"
   ]
  },
  {
   "cell_type": "code",
   "execution_count": 75,
   "id": "83d43bb9-694e-4390-a8a3-30f6535f6591",
   "metadata": {},
   "outputs": [
    {
     "name": "stdout",
     "output_type": "stream",
     "text": [
      "pics/earth.jpg\n",
      "<class 'str'>\n",
      "<PIL.JpegImagePlugin.JpegImageFile image mode=RGB size=320x240 at 0x13FBCD930>\n",
      "<class 'PIL.JpegImagePlugin.JpegImageFile'>\n"
     ]
    }
   ],
   "source": [
    "# img = Image.open('pics/venus.png')\n",
    "# type(img)\n",
    "# img.show()\n",
    "# print('pics/'+(planetDict['Name'][1])+'.jpg') #--> ja, leuk, maar venus is png ipv jpg\n",
    "print('pics/'+(planetDict['Image'][2]))\n",
    "tempie = ('pics/'+(planetDict['Image'][2]))\n",
    "print(type(tempie))\n",
    "img = Image.open('pics/'+(planetDict['Image'][1]))\n",
    "print(img)\n",
    "print(type(img))\n",
    "img.show()"
   ]
  },
  {
   "cell_type": "markdown",
   "id": "645b438b-324d-427c-9efd-d621e37445f7",
   "metadata": {
    "tags": []
   },
   "source": [
    "**Stap 4: Schaal de image m.b.v. een numpy array**"
   ]
  },
  {
   "cell_type": "code",
   "execution_count": 76,
   "id": "8894e6bd-6237-4cf6-8d95-222d6a3be56e",
   "metadata": {},
   "outputs": [],
   "source": [
    "array = np.array(img)\n",
    "type(array)\n",
    "scaleFactor = 1.5\n",
    "# print(type(scaleFactor))\n",
    "scaleArray = ndimage.zoom(array, (scaleFactor, scaleFactor, 1))\n",
    "imgScaled = Image.fromarray(scaleArray)\n",
    "# imgScaled.show()"
   ]
  },
  {
   "cell_type": "markdown",
   "id": "8611929d-d109-4f62-881f-b8a64db1e648",
   "metadata": {},
   "source": [
    "**Stap 5: Sla de geschaalde image op**"
   ]
  },
  {
   "cell_type": "code",
   "execution_count": 77,
   "id": "2e34fa25-3cc3-4e5f-b29a-7793e505db61",
   "metadata": {},
   "outputs": [],
   "source": [
    "imgScaled.save(img.filename.replace(\".\",\"_scaled.\"))"
   ]
  },
  {
   "cell_type": "markdown",
   "id": "f142ebe1-f561-447b-8e2e-e8855b20cd50",
   "metadata": {},
   "source": [
    "**Stap 6: Schrijf een functie voor het schalen van een image**"
   ]
  },
  {
   "cell_type": "code",
   "execution_count": 78,
   "id": "03cdd9a1",
   "metadata": {},
   "outputs": [],
   "source": [
    "# Eerst scales toevoegen aan dictionary\n",
    "scales = {'Scale': {1:'0.95', 2:'1', 3:'0.53', 4:'11.2', 5:'9.45', 6:'4', 7:'3.88'}}\n",
    "# print(scales)\n",
    "planetDict['Scale'] = {0:'1', 1:'0.95', 2:'1', 3:'0.53', 4:'11.2', 5:'9.45', 6:'4', 7:'3.88'}\n",
    "# print(planetDict)"
   ]
  },
  {
   "cell_type": "code",
   "execution_count": 79,
   "id": "88e2bb11",
   "metadata": {},
   "outputs": [],
   "source": [
    "def scaleImage(naam, schaal):\n",
    "    img = Image.open('pics/'+naam)\n",
    "    array = np.array(img)\n",
    "    type(array)\n",
    "    # scaleFactor = float(schaal)\n",
    "    scaleArray = ndimage.zoom(array, (float(schaal), float(schaal), 1))\n",
    "    imgScaled = Image.fromarray(scaleArray)\n",
    "    # imgScaled.show()\n",
    "    return imgScaled, img"
   ]
  },
  {
   "cell_type": "markdown",
   "id": "5a550077-c83c-4af2-96fa-7a32158d5198",
   "metadata": {},
   "source": [
    "**Stap 7: Maak een loop waarbij voor elke planeet een geschaalde image wordt gemaakt en opgelagen**"
   ]
  },
  {
   "cell_type": "code",
   "execution_count": 90,
   "id": "e0daaa1d",
   "metadata": {},
   "outputs": [
    {
     "name": "stdout",
     "output_type": "stream",
     "text": [
      "1\n",
      "mercury\n",
      "pics/mercury.jpg\n",
      "pics/tmp/mercury.jpg\n",
      "0.95\n",
      "venus\n",
      "pics/venus.jpg\n",
      "pics/tmp/venus.jpg\n",
      "1\n",
      "earth\n",
      "pics/earth.jpg\n",
      "pics/tmp/earth.jpg\n",
      "0.53\n",
      "mars\n",
      "pics/mars.jpg\n",
      "pics/tmp/mars.jpg\n",
      "11.2\n",
      "jupiter\n",
      "pics/jupiter.jpg\n",
      "pics/tmp/jupiter.jpg\n",
      "9.45\n",
      "saturn\n",
      "pics/saturn.jpg\n",
      "pics/tmp/saturn.jpg\n",
      "4\n",
      "uranus\n",
      "pics/uranus.jpg\n",
      "pics/tmp/uranus.jpg\n",
      "3.88\n",
      "neptune\n",
      "pics/neptune.jpg\n",
      "pics/tmp/neptune.jpg\n"
     ]
    }
   ],
   "source": [
    "for k in planetDict['Scale']:\n",
    "    print (planetDict['Scale'][k])\n",
    "    naam = (planetDict['Name'][k])\n",
    "    lower = naam.lower()\n",
    "    print (lower)\n",
    "    scaleImage (planetDict['Image'][k], planetDict['Scale'][k])\n",
    "    # imgScaled.save(img.filename.replace(\".\",\"_scaled.\"))\n",
    "    image_path = \"pics/tmp\"\n",
    "    print (f\"{image_path}/{planetDict['Image'][k]}\")\n",
    "    # imgScaled.save(f\"{image_path}/{planetDict['Image'][k]}\")\n"
   ]
  },
  {
   "cell_type": "code",
   "execution_count": null,
   "metadata": {},
   "outputs": [
    {
     "name": "stdout",
     "output_type": "stream",
     "text": [
      "pics/blabla\n"
     ]
    }
   ],
   "source": [
    "bestnaam='blabla'\n",
    "print ('pics/'+bestnaam)"
   ]
  },
  {
   "cell_type": "markdown",
   "id": "a668a8e8-4d7e-4c6d-adbc-61935887fabe",
   "metadata": {},
   "source": [
    "<h4>Bonus: Voeg Mercurius aan de tabel toe en schaal ook daarvan het plaatje</h4>"
   ]
  },
  {
   "cell_type": "markdown",
   "id": "11d181d1-c906-4ad1-9d8f-69836a4e8cc7",
   "metadata": {},
   "source": [
    "</ol>"
   ]
  },
  {
   "cell_type": "markdown",
   "id": "03ac855f-3986-4b4a-823c-10c6d8b33024",
   "metadata": {},
   "source": [
    "</ol>"
   ]
  },
  {
   "cell_type": "markdown",
   "id": "0be19a7e-a00f-4773-a19a-50b07618f856",
   "metadata": {},
   "source": [
    "\n"
   ]
  }
 ],
 "metadata": {
  "kernelspec": {
   "display_name": "Python 3.10.6 64-bit",
   "language": "python",
   "name": "python3"
  },
  "language_info": {
   "codemirror_mode": {
    "name": "ipython",
    "version": 3
   },
   "file_extension": ".py",
   "mimetype": "text/x-python",
   "name": "python",
   "nbconvert_exporter": "python",
   "pygments_lexer": "ipython3",
   "version": "3.10.6"
  },
  "vscode": {
   "interpreter": {
    "hash": "aee8b7b246df8f9039afb4144a1f6fd8d2ca17a180786b69acc140d282b71a49"
   }
  }
 },
 "nbformat": 4,
 "nbformat_minor": 5
}
